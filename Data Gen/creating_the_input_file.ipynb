{
 "cells": [
  {
   "cell_type": "code",
   "execution_count": 1,
   "id": "fca23078-1dfe-41e3-9c59-4064e6d49362",
   "metadata": {},
   "outputs": [],
   "source": [
    "import numpy as np\n",
    "import time\n",
    "import os\n",
    "import math\n",
    "\n",
    "# importing your functions here, make sure the files are in the same location\n",
    "\n",
    "from random_mix import random_mixed_state\n",
    "from upper_tri import rho_to_vec"
   ]
  },
  {
   "cell_type": "code",
   "execution_count": 2,
   "id": "7f796f09-7f21-4dd8-9d88-abb4c2548639",
   "metadata": {},
   "outputs": [],
   "source": [
    "# generates a single line for the input file\n",
    "# - random matrix -> data row\n",
    "# - by dafault mixes between 1-10 pure states for the mixed state\n",
    "# - note that density matrix for n qubits will have 2^n x 2^n size \n",
    "\n",
    "def generate_input_line(n_qubits, n_mixed=None):\n",
    "    dim = 2**n_qubits\n",
    "    if not n_mixed:\n",
    "        n_mixed = np.random.randint(1,11)\n",
    "    return rho_to_vec(random_mixed_state(dim, n_mixed))\n",
    "\n",
    "# vectorizing the function\n",
    "# - signature specifies how arguments should be iterated into output, in this case a 1d np.array\n",
    "\n",
    "v_generate_input_line = np.vectorize(generate_input_line, signature='(),()->(d)')"
   ]
  },
  {
   "cell_type": "code",
   "execution_count": 3,
   "id": "ce1344c8-dd61-4b6c-9c86-2715914c60e5",
   "metadata": {},
   "outputs": [],
   "source": [
    "# call this to create the input file (.npy)\n",
    "# - reports filename, memory used and runtime\n",
    "# - currently uses density matrices of the same size, can be expanded later\n",
    "\n",
    "def create_input_file(n_arrays, n_qubits, n_mixed=None, filename=None):\n",
    "    if not filename:\n",
    "        if n_mixed == 1:\n",
    "            filename = f'input_for_{n_qubits}_qubits_pure_{n_arrays}_datapoints.npy'\n",
    "        else:\n",
    "            filename = f'input_for_{n_qubits}_qubits_mixed_{n_arrays}_datapoints.npy'\n",
    "    start_time = time.time()\n",
    "    data = v_generate_input_line([n_qubits]*n_arrays, n_mixed)\n",
    "    np.save(filename, data)\n",
    "    elapsed = time.time() - start_time\n",
    "    hrs, rem = divmod(elapsed, 3600)\n",
    "    mins, secs = divmod(rem, 60)\n",
    "    print(f\"Saved as {filename}\")\n",
    "    print(f\"File size {math.ceil(os.path.getsize(filename)/1000)} KB\")\n",
    "    print(f\"Elapsed time: {int(hrs):02}:{int(mins):02}:{secs:05.2f}\")\n",
    "\n",
    "# debug functions since .npy is not human-readable\n",
    "# - check the shape of the .npy file\n",
    "# - read i'th line on the .npy file\n",
    "\n",
    "def chech_input_file_shape(filename):\n",
    "    map = np.lib.format.open_memmap(filename, mode='r+')\n",
    "    print(f\"{map.shape[0]} rows\")\n",
    "    print(f\"{map.shape[1]} cols\")\n",
    "\n",
    "def read_input_file_line(filename, i_line):\n",
    "    map = np.lib.format.open_memmap(filename, mode='r+')\n",
    "    return np.array(map[i_line])\n",
    "\n",
    "# The np.lib.format.open_memmap approach may seem unneceserily elaborate, especially while numpy provides us with np.read_npy_row(filename, i).\n",
    "# Memory map, whila allowing less flexibility, allows for more efficient consecuutive reads whithout copying the memory, so I think it might be\n",
    "# more efficient to stick to it when you will later be reading the date to your neural network. Still, might be an overshoot on my side and\n",
    "# np.read_npy_row might perform just as well."
   ]
  },
  {
   "cell_type": "markdown",
   "id": "17d0a858-f97c-409a-91e6-ca1e37f6543d",
   "metadata": {},
   "source": [
    "## TESTING: small"
   ]
  },
  {
   "cell_type": "code",
   "execution_count": 4,
   "id": "37c17599-b667-4ef3-acbb-d584a469a720",
   "metadata": {},
   "outputs": [
    {
     "name": "stdout",
     "output_type": "stream",
     "text": [
      "Saved as test: 100 2qubit mixed matrices.npy\n",
      "File size 6 KB\n",
      "Elapsed time: 00:00:00.01\n"
     ]
    }
   ],
   "source": [
    "filename=\"test: 100 2qubit mixed matrices.npy\"\n",
    "create_input_file(10,3,filename=filename)"
   ]
  },
  {
   "cell_type": "code",
   "execution_count": 12,
   "id": "b04db354-47f4-4917-9ba6-9ef8e447ce99",
   "metadata": {},
   "outputs": [
    {
     "name": "stdout",
     "output_type": "stream",
     "text": [
      "100 rows\n",
      "16 cols\n",
      "reading first 2 lines\n",
      "[ 0.45808005  0.48257581 -0.05507826 -0.07340519  0.02049214  0.03428682\n",
      "  0.07311534  0.51500393 -0.07979444  0.01276192  0.02732912  0.08114773\n",
      "  0.01267955 -0.0022235  -0.01325021  0.01423646]\n",
      "[ 0.20892414  0.02908594  0.19516044 -0.08609488 -0.10397362  0.01334315\n",
      " -0.05736463  0.4181706  -0.30438375  0.13124235 -0.03590988 -0.06742398\n",
      "  0.30129336 -0.01567147  0.03425954  0.0716119 ]\n",
      "reconstructing first two arrays\n",
      "[TODO: validate using your functions]\n"
     ]
    }
   ],
   "source": [
    "chech_input_file_shape(filename)\n",
    "print(\"reading first 2 lines\")\n",
    "print(read_input_file_line(filename,0))\n",
    "print(read_input_file_line(filename,1))\n",
    "print(\"reconstructing first two arrays\")\n",
    "print(\"[TODO: validate using your functions]\")"
   ]
  },
  {
   "cell_type": "markdown",
   "id": "e8e7ff2a-503c-4fb0-9bc4-d3c1e9b77922",
   "metadata": {},
   "source": [
    "## TESTING: big\n",
    "WARNING: takes ~20MB"
   ]
  },
  {
   "cell_type": "code",
   "execution_count": 9,
   "id": "9235ef65-0d09-48a5-b997-697feec2a618",
   "metadata": {},
   "outputs": [
    {
     "name": "stdout",
     "output_type": "stream",
     "text": [
      "Saved as test: 10000 4qubit mixed matrices.npy\n",
      "File size 20481 KB\n",
      "Elapsed time: 00:00:09.49\n"
     ]
    }
   ],
   "source": [
    "filename=\"test: 10000 4qubit mixed matrices.npy\"\n",
    "create_input_file(10000,4,filename=filename)"
   ]
  },
  {
   "cell_type": "code",
   "execution_count": 10,
   "id": "596bea0c-a8a7-4080-a7d2-a650567a68fd",
   "metadata": {},
   "outputs": [
    {
     "name": "stdout",
     "output_type": "stream",
     "text": [
      "10000 rows\n",
      "256 cols\n",
      "reading first 2 lines\n",
      "[ 0.11666753 -0.0241718   0.04096326 -0.00200406 -0.05921715 -0.03416414\n",
      " -0.01284997 -0.03500238 -0.00259895  0.01174895  0.02855478 -0.02913743\n",
      " -0.05771739 -0.04296249 -0.01553199 -0.04698713  0.02392411  0.00467477\n",
      "  0.0161193  -0.03687603 -0.00734881  0.02688106  0.00604095  0.01308908\n",
      " -0.02059478  0.04860392 -0.03152452  0.02024888 -0.05109429  0.0359534\n",
      " -0.01232239  0.05441388 -0.02036179  0.01118477  0.01517976  0.03622178\n",
      "  0.00208154 -0.01981537 -0.00587756  0.0091397  -0.02075797  0.01396003\n",
      "  0.0379033   0.01545577  0.03764343  0.00728983  0.02557083 -0.02299806\n",
      " -0.02025241 -0.00121796 -0.00665899  0.02611577 -0.02168945 -0.01138041\n",
      " -0.02787402 -0.01712948  0.00891236 -0.00290219  0.01298164 -0.00507596\n",
      "  0.05550503  0.01910153 -0.04970684 -0.00599449 -0.01529162 -0.01003264\n",
      " -0.01305648  0.04720732 -0.03259124  0.03568564 -0.01670593 -0.03637903\n",
      " -0.03545093 -0.02543582  0.00087132 -0.00704864 -0.00353188 -0.02538915\n",
      "  0.04550009  0.03292534 -0.01172774  0.02328051  0.02540798  0.00042873\n",
      "  0.00358804 -0.01323885  0.0188073   0.07963648 -0.01954047 -0.02342794\n",
      "  0.0267235   0.0063209   0.04048199  0.02751713  0.03481489  0.01448257\n",
      "  0.01846717 -0.06518976 -0.01307757 -0.04849197 -0.03494638  0.00046255\n",
      " -0.03950617  0.00679033  0.02262889  0.03041839 -0.01393878  0.02685051\n",
      "  0.00578476 -0.04241781 -0.00560283 -0.03080771  0.04540605 -0.02441358\n",
      " -0.01703212  0.01012256  0.01677785  0.00184549  0.03217237  0.02343308\n",
      "  0.0177402   0.01910102  0.01968545  0.03526183 -0.02520776 -0.0311809\n",
      " -0.01872739 -0.00201833  0.00139423 -0.00979988  0.00404163  0.00591745\n",
      "  0.05163432 -0.01122572  0.02927138  0.03769903 -0.00225591  0.01592246\n",
      " -0.01910616  0.01082682 -0.00575351 -0.01566893 -0.0159094  -0.01729662\n",
      " -0.01862166  0.02322833 -0.00151207 -0.02529104  0.01245325  0.01696941\n",
      " -0.00249048 -0.00323964 -0.02513669 -0.04466504 -0.00968837 -0.03885851\n",
      "  0.06383825  0.02847201  0.01292473 -0.01081551 -0.05043845 -0.01928628\n",
      " -0.0081745   0.00113877 -0.01734614 -0.05456254  0.01115781  0.03977035\n",
      "  0.01489393  0.01108805  0.037601    0.00548868  0.00653838 -0.02050577\n",
      "  0.01155321  0.0809756   0.0053288  -0.02753809 -0.00137207 -0.02156764\n",
      " -0.02004635 -0.00083249 -0.0341821   0.07384335  0.00858311 -0.02444292\n",
      " -0.0114589   0.01067517  0.00220798  0.01113577 -0.00755604  0.01753701\n",
      "  0.06628929  0.03440196 -0.02138449  0.00545461 -0.02348369 -0.01135485\n",
      " -0.02948767 -0.02806714  0.02676296 -0.03701584  0.00144009  0.02927965\n",
      "  0.01350292  0.01521064 -0.00467059  0.03727747 -0.00226446 -0.03036755\n",
      " -0.00754688 -0.00793586 -0.01783069 -0.00031522 -0.00864166 -0.01506226\n",
      "  0.03459418  0.0115664   0.02533004  0.0092298   0.05388673  0.00732662\n",
      " -0.03081961 -0.01177332  0.00449113 -0.00895314  0.00948766 -0.01638803\n",
      "  0.05682153 -0.02233378  0.02611776  0.10195809 -0.04903267 -0.00583686\n",
      " -0.00219814 -0.01239149  0.00098726 -0.00531562  0.02416098 -0.00682658\n",
      "  0.04485195  0.02177148  0.01117242 -0.01285126 -0.01646558 -0.01930089\n",
      " -0.00303501  0.03370637  0.00944198 -0.01100557  0.00686177  0.00840024\n",
      "  0.08355283  0.05176507  0.01673717  0.04433544]\n",
      "[ 0.10898014 -0.04907555  0.02915579 -0.02467178  0.06489789 -0.02910803\n",
      "  0.0458616   0.08945472 -0.02618942  0.028377    0.04685284  0.08589908\n",
      "  0.04344955 -0.07436309 -0.09833684 -0.0094055  -0.10378351  0.01592514\n",
      "  0.00943541 -0.01425667 -0.01801247  0.02393038  0.06523041  0.00754654\n",
      " -0.14200311  0.02069589 -0.04705468  0.02484485 -0.05984289  0.01653079\n",
      " -0.07762423  0.02989967  0.02847244 -0.02262407  0.02537732 -0.01286487\n",
      " -0.04728947 -0.01213857 -0.00024395 -0.02869039 -0.02705758 -0.04254689\n",
      "  0.00717857  0.06417728 -0.02353007  0.0492517  -0.00464707 -0.00850942\n",
      "  0.00160108  0.01192544  0.00667505 -0.03577649 -0.04138886  0.06192739\n",
      " -0.02190838  0.01565266 -0.02719799  0.02030142 -0.02821114  0.03053293\n",
      "  0.04423221  0.03390038  0.00695138 -0.03584731 -0.04734149  0.02147675\n",
      " -0.02750547  0.00642778 -0.06098952 -0.04172488  0.06654563 -0.05967399\n",
      "  0.02909632  0.00201354 -0.01161952 -0.00749892  0.01256768  0.03342729\n",
      " -0.02901796 -0.08627157  0.0276538  -0.03270645 -0.00167184 -0.04126113\n",
      " -0.00124745 -0.04996775  0.00772906  0.02707433 -0.03491406 -0.03064975\n",
      "  0.01213751 -0.02445591 -0.00465853 -0.04775366 -0.02152063  0.05755913\n",
      " -0.04116257  0.03167811 -0.00028287 -0.00922185 -0.00377222  0.0108106\n",
      "  0.02105892 -0.02749322 -0.06177415  0.03475252 -0.02532957  0.00385871\n",
      " -0.03181933  0.00552839 -0.03708153  0.01377645  0.07972124  0.01203346\n",
      "  0.04527783  0.06006745  0.05630763 -0.03740815 -0.09858879  0.01722023\n",
      " -0.08744941  0.01080446  0.01157194 -0.00737373 -0.01821134  0.00396714\n",
      "  0.0592942   0.04031975 -0.11474759  0.0282958  -0.03365062  0.03477458\n",
      " -0.04315058  0.03222321 -0.05974411  0.02753202  0.04104687 -0.02561612\n",
      " -0.06164024  0.00636462 -0.04706777 -0.02298025  0.00820318 -0.0043897\n",
      " -0.01145619  0.00143903  0.03427507  0.00669697 -0.05908509 -0.04022017\n",
      " -0.01484085 -0.02115002 -0.01925843 -0.02626362 -0.02906788 -0.02731926\n",
      "  0.08502939 -0.09781977 -0.04786194 -0.04879119 -0.07805315  0.01631416\n",
      "  0.00108783 -0.01841866 -0.00851355  0.044869    0.0418743  -0.05066731\n",
      " -0.11493682 -0.00244766 -0.0453402  -0.00427598 -0.05707412 -0.01791847\n",
      " -0.06777478  0.13947499  0.10006561  0.06233021 -0.01938051  0.00793156\n",
      "  0.02598142 -0.00057344 -0.07518883 -0.02291699  0.12298528  0.10370599\n",
      "  0.02833725  0.05078265  0.03704547  0.06325249  0.05876337  0.06788359\n",
      "  0.09964641 -0.0103599   0.01435145  0.01838397 -0.01202229 -0.06418525\n",
      "  0.01715959  0.1345805   0.01944223  0.04302476  0.02377007  0.0548451\n",
      "  0.02882486  0.07249609  0.02244187  0.00314403 -0.00364281 -0.00139781\n",
      "  0.00914451  0.00746017 -0.01119174 -0.02140413 -0.00104969 -0.00866788\n",
      " -0.0015506  -0.01089582 -0.00430501 -0.01277436  0.00484218 -0.01391197\n",
      " -0.00457811  0.02248334  0.01982401  0.00506988  0.00957631  0.00664078\n",
      "  0.01193499  0.01066735  0.01288697  0.04429861 -0.08333931 -0.03569873\n",
      " -0.02362022 -0.02272008 -0.0303636  -0.02801155 -0.04283231 -0.02693966\n",
      "  0.18555522  0.06274623  0.02370873  0.0796968   0.02822935  0.10229049\n",
      "  0.01616468  0.0242472   0.03055671 -0.00063714  0.03665533 -0.00760369\n",
      "  0.03852479  0.04639343 -0.00861911  0.05779757]\n",
      "reconstructing first two arrays\n",
      "[TODO: validate using your functions]\n"
     ]
    }
   ],
   "source": [
    "chech_input_file_shape(filename)\n",
    "print(\"reading first 2 lines\")\n",
    "print(read_input_file_line(filename,0))\n",
    "print(read_input_file_line(filename,1))\n",
    "print(\"reconstructing first two arrays\")\n",
    "print(\"[TODO: validate using your functions]\")"
   ]
  },
  {
   "cell_type": "code",
   "execution_count": null,
   "id": "80640e5f-0e33-43a7-9032-f9116b912c13",
   "metadata": {},
   "outputs": [],
   "source": []
  }
 ],
 "metadata": {
  "kernelspec": {
   "display_name": "base",
   "language": "python",
   "name": "python3"
  },
  "language_info": {
   "codemirror_mode": {
    "name": "ipython",
    "version": 3
   },
   "file_extension": ".py",
   "mimetype": "text/x-python",
   "name": "python",
   "nbconvert_exporter": "python",
   "pygments_lexer": "ipython3",
   "version": "3.12.7"
  }
 },
 "nbformat": 4,
 "nbformat_minor": 5
}
