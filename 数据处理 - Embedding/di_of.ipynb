{
 "cells": [
  {
   "cell_type": "markdown",
   "id": "56f9002e",
   "metadata": {},
   "source": [
    "CNN\n",
    "rho_X.npy   # shape: (N, L)     原始向量数据（密度矩阵 flatten 后）\n",
    "emb_X.npy   # shape: (N, L, C)  对应位置的 embedding 信息\n",
    "\n",
    "\n",
    "🟦 Embedding 2.1：Diagonal / Off-diagonal（标注为 1 / 0）\n",
    "通道数 C=1，emb[n, i, 0] = 1 if pos is diagonal else 0\n",
    "\n",
    "CNN 输入可以是 (rho, emb) 直接拼接，形状为 (N, L, 2)\n",
    "\n",
    "\n"
   ]
  },
  {
   "cell_type": "code",
   "execution_count": 1,
   "id": "218fc746",
   "metadata": {},
   "outputs": [],
   "source": [
    "import numpy as np\n",
    "import os\n",
    "\n",
    "def generate_embedding_2_1(npy_file_path, save_path=None):\n",
    "    \"\"\"\n",
    "    生成 Embedding 2.1：区分 diagonal (1) 和 off-diagonal (0) 的标记。\n",
    "\n",
    "    参数：\n",
    "    - npy_file_path: str，原始 .npy 文件路径，文件中每行是一个向量化的密度矩阵\n",
    "    - save_path: str，可选，保存 embedding 的路径，若为 None 则自动命名为 <原文件名>_emb2.1.npy\n",
    "\n",
    "    输出：\n",
    "    - 保存一个 shape = (N, L, 1) 的 embedding 文件，其中：\n",
    "        - N 是样本数（向量行数）\n",
    "        - L 是向量长度（等于 D^2）\n",
    "        - 每个位置的值为：\n",
    "            - 1：对角项\n",
    "            - 0：非对角项\n",
    "    \"\"\"\n",
    "    # 加载原始向量数据，shape = (N, L)\n",
    "    rho = np.load(npy_file_path)\n",
    "    N, L = rho.shape\n",
    "\n",
    "    # 计算矩阵维度 D：向量长度应为 D²\n",
    "    D = int(np.sqrt(L))\n",
    "    assert D * D == L, f\"向量长度 {L} 不能开方成整数，可能不是 D×D 的向量化矩阵。\"\n",
    "\n",
    "    # 初始化全 0（默认是 off-diagonal）\n",
    "    embedding = np.zeros((N, L, 1), dtype=np.int8)\n",
    "\n",
    "    # 将前 D 个元素标记为 diagonal\n",
    "    embedding[:, :D, 0] = 1\n",
    "\n",
    "    # 自动保存路径处理\n",
    "    if save_path is None:\n",
    "        base, ext = os.path.splitext(npy_file_path)\n",
    "        save_path = f\"{base}_emb2.1.npy\"\n",
    "\n",
    "    np.save(save_path, embedding)\n",
    "    return save_path\n"
   ]
  },
  {
   "cell_type": "code",
   "execution_count": null,
   "id": "de75ccf3",
   "metadata": {},
   "outputs": [],
   "source": [
    "save_path = generate_embedding_2_1(\"your_file.npy\")"
   ]
  }
 ],
 "metadata": {
  "kernelspec": {
   "display_name": "base",
   "language": "python",
   "name": "python3"
  },
  "language_info": {
   "codemirror_mode": {
    "name": "ipython",
    "version": 3
   },
   "file_extension": ".py",
   "mimetype": "text/x-python",
   "name": "python",
   "nbconvert_exporter": "python",
   "pygments_lexer": "ipython3",
   "version": "3.12.7"
  }
 },
 "nbformat": 4,
 "nbformat_minor": 5
}
