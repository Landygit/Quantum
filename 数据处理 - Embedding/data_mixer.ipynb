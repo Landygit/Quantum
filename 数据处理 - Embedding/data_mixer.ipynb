{
 "cells": [
  {
   "cell_type": "markdown",
   "id": "23b5b7c2",
   "metadata": {},
   "source": [
    "历史遗留问题：不能接受不同大小混合。\n",
    "https://chatgpt.com/share/685be7ec-bf08-8007-8ee7-24555472c802\n",
    "全部都在解决这个问题，提出更多新思路。"
   ]
  },
  {
   "cell_type": "code",
   "execution_count": 1,
   "id": "05e0ecbf",
   "metadata": {},
   "outputs": [],
   "source": [
    "\n",
    "import numpy as np\n",
    "import random\n",
    "\n",
    "def mix_npy_data(npy_file_list, output_path, samples_per_file=(1, 3), seed=None):\n",
    "    \"\"\"\n",
    "    从多个 .npy 文件中轮换抽取 1–3 行，直至所有文件的行都被使用完毕，生成混合数据集。\n",
    "\n",
    "    参数：\n",
    "    - npy_file_list: List[str]，所有要读取的 .npy 文件路径\n",
    "    - output_path: str，保存合并输出的 .npy 文件路径\n",
    "    - samples_per_file: Tuple[int, int]，每次从某文件中随机抽取的行数范围（闭区间）\n",
    "    - seed: int，可选，设定随机种子以保证可复现性\n",
    "\n",
    "    返回：\n",
    "    - output_path: 保存成功后的路径\n",
    "    \"\"\"\n",
    "    if seed is not None:\n",
    "        random.seed(seed)\n",
    "        np.random.seed(seed)\n",
    "\n",
    "    # 加载每个文件的数据和初始化未抽取行索引\n",
    "    file_data = []  # [(data_array, remaining_indices_list), ...]\n",
    "    for file in npy_file_list:\n",
    "        arr = np.load(file)  # shape: (N, L)\n",
    "        indices = list(np.random.permutation(len(arr)))  # 打乱行索引\n",
    "        file_data.append((arr, indices))\n",
    "\n",
    "    all_samples = []\n",
    "    file_count = len(file_data)\n",
    "    finished = [False] * file_count  # 每个文件是否处理完毕的标志\n",
    "    active_files = file_count  # 当前仍有剩余行的文件数\n",
    "    pointer = 0  # 当前轮到哪个文件抽取\n",
    "\n",
    "    while active_files > 0:\n",
    "        arr, indices = file_data[pointer]\n",
    "\n",
    "        if not finished[pointer]:\n",
    "            # 当前文件仍有剩余行\n",
    "            k = random.randint(*samples_per_file)\n",
    "            k = min(k, len(indices))  # 如果不足 k 行，取剩下所有行\n",
    "            chosen = indices[:k]\n",
    "            indices[:] = indices[k:]  # 从剩余列表中移除已使用的行\n",
    "            file_data[pointer] = (arr, indices)  # 更新对应文件的剩余数据\n",
    "\n",
    "            # 加入最终混合数据中\n",
    "            all_samples.append(arr[chosen])\n",
    "\n",
    "            # 如果该文件已抽完，标记为完成\n",
    "            if len(indices) == 0:\n",
    "                finished[pointer] = True\n",
    "                active_files -= 1\n",
    "\n",
    "        # 移动到下一个文件（循环轮换）\n",
    "        pointer = (pointer + 1) % file_count\n",
    "\n",
    "    # 合并所有批次并保存\n",
    "    mixed_array = np.concatenate(all_samples, axis=0)\n",
    "    np.save(output_path, mixed_array)\n",
    "    print(f\"数据已保存到 {output_path}，总行数: {mixed_array.shape[0]}\")\n",
    "    return output_path\n",
    "\n"
   ]
  },
  {
   "cell_type": "code",
   "execution_count": 2,
   "id": "2e830e2f",
   "metadata": {},
   "outputs": [
    {
     "ename": "ValueError",
     "evalue": "all the input array dimensions except for the concatenation axis must match exactly, but along dimension 1, the array at index 0 has size 16 and the array at index 1 has size 64",
     "output_type": "error",
     "traceback": [
      "\u001b[0;31m---------------------------------------------------------------------------\u001b[0m",
      "\u001b[0;31mValueError\u001b[0m                                Traceback (most recent call last)",
      "Cell \u001b[0;32mIn[2], line 7\u001b[0m\n\u001b[1;32m      1\u001b[0m npy_file_list \u001b[38;5;241m=\u001b[39m [\n\u001b[1;32m      2\u001b[0m     \u001b[38;5;124m\"\u001b[39m\u001b[38;5;124m/Users/guwenlan/Desktop/DURF/Gernerated_/input_for_2_qubits_mixed_10000_datapoints.npy\u001b[39m\u001b[38;5;124m\"\u001b[39m,\n\u001b[1;32m      3\u001b[0m     \u001b[38;5;124m'\u001b[39m\u001b[38;5;124m/Users/guwenlan/Desktop/DURF/Gernerated_/input_for_3_qubits_mixed_10000_datapoints.npy\u001b[39m\u001b[38;5;124m'\u001b[39m,\n\u001b[1;32m      4\u001b[0m     \u001b[38;5;124m'\u001b[39m\u001b[38;5;124m/Users/guwenlan/Desktop/DURF/Gernerated_/input_for_4_qubits_mixed_10000_datapoints.npy\u001b[39m\u001b[38;5;124m'\u001b[39m\n\u001b[1;32m      5\u001b[0m ]\n\u001b[1;32m      6\u001b[0m output_path \u001b[38;5;241m=\u001b[39m \u001b[38;5;124m'\u001b[39m\u001b[38;5;124m/Users/guwenlan/Desktop/DURF/Mixed_data_2_3_4.npy\u001b[39m\u001b[38;5;124m'\u001b[39m\n\u001b[0;32m----> 7\u001b[0m mix_npy_data(npy_file_list, output_path, samples_per_file\u001b[38;5;241m=\u001b[39m(\u001b[38;5;241m1\u001b[39m, \u001b[38;5;241m3\u001b[39m), seed\u001b[38;5;241m=\u001b[39m\u001b[38;5;28;01mNone\u001b[39;00m)\n",
      "Cell \u001b[0;32mIn[1], line 57\u001b[0m, in \u001b[0;36mmix_npy_data\u001b[0;34m(npy_file_list, output_path, samples_per_file, seed)\u001b[0m\n\u001b[1;32m     54\u001b[0m     pointer \u001b[38;5;241m=\u001b[39m (pointer \u001b[38;5;241m+\u001b[39m \u001b[38;5;241m1\u001b[39m) \u001b[38;5;241m%\u001b[39m file_count\n\u001b[1;32m     56\u001b[0m \u001b[38;5;66;03m# 合并所有批次并保存\u001b[39;00m\n\u001b[0;32m---> 57\u001b[0m mixed_array \u001b[38;5;241m=\u001b[39m np\u001b[38;5;241m.\u001b[39mconcatenate(all_samples, axis\u001b[38;5;241m=\u001b[39m\u001b[38;5;241m0\u001b[39m)\n\u001b[1;32m     58\u001b[0m np\u001b[38;5;241m.\u001b[39msave(output_path, mixed_array)\n\u001b[1;32m     59\u001b[0m \u001b[38;5;28mprint\u001b[39m(\u001b[38;5;124mf\u001b[39m\u001b[38;5;124m\"\u001b[39m\u001b[38;5;124m数据已保存到 \u001b[39m\u001b[38;5;132;01m{\u001b[39;00moutput_path\u001b[38;5;132;01m}\u001b[39;00m\u001b[38;5;124m，总行数: \u001b[39m\u001b[38;5;132;01m{\u001b[39;00mmixed_array\u001b[38;5;241m.\u001b[39mshape[\u001b[38;5;241m0\u001b[39m]\u001b[38;5;132;01m}\u001b[39;00m\u001b[38;5;124m\"\u001b[39m)\n",
      "\u001b[0;31mValueError\u001b[0m: all the input array dimensions except for the concatenation axis must match exactly, but along dimension 1, the array at index 0 has size 16 and the array at index 1 has size 64"
     ]
    }
   ],
   "source": [
    "npy_file_list = [\n",
    "    \"/Users/guwenlan/Desktop/DURF/Gernerated_/input_for_2_qubits_mixed_10000_datapoints.npy\",\n",
    "    '/Users/guwenlan/Desktop/DURF/Gernerated_/input_for_3_qubits_mixed_10000_datapoints.npy',\n",
    "    '/Users/guwenlan/Desktop/DURF/Gernerated_/input_for_4_qubits_mixed_10000_datapoints.npy'\n",
    "]\n",
    "output_path = '/Users/guwenlan/Desktop/DURF/Mixed_data_2_3_4.npy'\n",
    "mix_npy_data(npy_file_list, output_path, samples_per_file=(1, 3), seed=None)"
   ]
  }
 ],
 "metadata": {
  "kernelspec": {
   "display_name": "base",
   "language": "python",
   "name": "python3"
  },
  "language_info": {
   "codemirror_mode": {
    "name": "ipython",
    "version": 3
   },
   "file_extension": ".py",
   "mimetype": "text/x-python",
   "name": "python",
   "nbconvert_exporter": "python",
   "pygments_lexer": "ipython3",
   "version": "3.12.7"
  }
 },
 "nbformat": 4,
 "nbformat_minor": 5
}
